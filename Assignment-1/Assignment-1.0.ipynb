{
 "cells": [
  {
   "cell_type": "markdown",
   "metadata": {},
   "source": [
    "# CMSC471 Artificial Intelligence - Spring 2020\n",
    "# Instructor: Fereydoon Vafaei\n",
    "# Assignment 1: Solving Problems by Searching"
   ]
  },
  {
   "cell_type": "markdown",
   "metadata": {},
   "source": [
    "*Type your name and ID here*"
   ]
  },
  {
   "cell_type": "markdown",
   "metadata": {},
   "source": [
    "## Overview and Learning Objectives"
   ]
  },
  {
   "cell_type": "markdown",
   "metadata": {},
   "source": [
    "We've studied two types of search algorithms during the recent lectures: Uninformed Search and Informed Search.\n",
    "\n",
    "Uninformed Search (aka blind search) refers to the search strategies that do not use additional information about states and goal of the search - nothing beyond the provided problem definition. The first algorithms that we studied from Chapter 3 of the Russel & Norvig textbook were Breadth First Search (BFS) and Depth First Search (DFS) which both fall into the category of Uniformed Search.  In the first part of this assignment, you will implement both BFS and DFS algorithms in Python and then test them on a simple graph and grid.\n",
    "\n",
    "We also studied how we can modify DFS to combine the advantages of BFS (completeness and conditional optimality) with the main advantage of DFS --space complexity of $O(bm)$ where $b$ is the branching factor and $m$ is the maximum depth of the search space. Limited Depth Search and Iterative Deepening DFS were two algorithms that we studied in that section and you are going to implement them in Part II of this assignment and you will test them on 8-puzzle problem.\n",
    "\n",
    "Finally, in Part III, you will work on a graph by applying Informed Search algorithms: Greedy Best-First Search and A*. As discussed in the lectures, informed search algorithms use heuristic functions. You'll also check and prove whether the provided heuristic is admissible and consistent.\n",
    "\n",
    "<b>Very Important Note:</b> Read ALL the instructions in this notebook very carefully. Careless reading and skipping lines would be a major source of making mistakes and losing points in your first assignment! Also notice that this assignment has three parts and requires a lot of work. You're strongly recommended to get started early and plan to finish well before the due. Technical problems or other issues/questions on the due date or just a day before would NOT be accepted as an excuse to delay your submission. \n",
    "\n",
    "Pedagogically, this assignment will help you:\n",
    "- better understand how these algorithms work in pratice. \n",
    "- brush up your Python skills - and possibly learn a couple of new \"Pythonic\" tricks!\n",
    "- pratice reading documentation. This is a very important skill in AI/ML/Data Science collaborative environments and teams.\n",
    "\n",
    "So, let's get started!"
   ]
  },
  {
   "cell_type": "markdown",
   "metadata": {},
   "source": [
    "# Part I - Breadth First Search (BFS) and Depth First Search (DFS)"
   ]
  },
  {
   "cell_type": "markdown",
   "metadata": {},
   "source": [
    "In <b>Part I</b> of this Jupyter Notebook, you must implement the following functions:\n",
    "\n",
    "  * `breadthFirstSearch(startState, goalState, successorsf)` \n",
    "  * `depthFirstSearch(startState, goalState, successorsf)`\n",
    "  \n",
    "Each receives as arguments the starting state, the goal state, and a successors function.  `breadthFirstSearch` returns the breadth-first solution path as a list of states starting with the `startState` and ending with the `goalState`.  `depthFirstSearch` returns the depth-first solution path.\n",
    "\n",
    "The major difference between BFS and DFS is the order they visit/expand and goal-test the nodes. They use a different mechanism for storing the nodes in memory. As discussed in the lectures, sections 3.3.1, 3.4.1 and Figure 3.11 of the textbook, BFS uses a FIFO strategy with a queue data structure and DFS uses a LIFO strategy with a stack data structure to pop the unexpanded nodes. Both FIFO and LIFO can be easily implemented in Python with a similar \"list\" data structure.\n",
    "\n",
    "Once you implemented the required fucntions, demonstrate each one running correctly with a simple graph as shown in the following example, and with the grid example.  Test your code on other graphs. Grading will be based on the accuracy of your outputs from both the given search problem examples as well as tests that will be different from the graph and grid example shown here.</b></font>"
   ]
  },
  {
   "cell_type": "markdown",
   "metadata": {},
   "source": [
    "To help you get started, you are given below the wrapper function definitions `breadthFirstSearch` and `depthFirstSearch` for BFS and DFS. They both use a general `uninformedSearch` function which you will implement in the following cells."
   ]
  },
  {
   "cell_type": "code",
   "execution_count": 1,
   "metadata": {},
   "outputs": [],
   "source": [
    "def breadthFirstSearch(startState, goalState, successorsf):\n",
    "    \"\"\"\n",
    "    Breadth first search function returns a path from the starting state to the goal state\n",
    "    using the Breadth First Search (BFS) algorithm. It calls the helper function 'uninformedSearch'.\n",
    "    \"\"\"\n",
    "    return uninformedSearch(startState, goalState, successorsf, True)"
   ]
  },
  {
   "cell_type": "code",
   "execution_count": 2,
   "metadata": {},
   "outputs": [],
   "source": [
    "def depthFirstSearch(startState, goalState, successorsf):\n",
    "    \"\"\"\n",
    "    Depth first search function returns a path from the starting state to the goal state\n",
    "    using the Depth First Search (DFS) algorithm. It calls the helper function 'uninformedSearch'.\n",
    "    \"\"\"\n",
    "    return uninformedSearch(startState, goalState, successorsf, False)"
   ]
  },
  {
   "cell_type": "markdown",
   "metadata": {},
   "source": [
    "### Uninformed Search <font color = red> Required Implementation"
   ]
  },
  {
   "cell_type": "markdown",
   "metadata": {},
   "source": [
    "Now, you implement the `uninformedSearch` function. Enter your codes in the blocks that start with `### START CODE HERE ###`.\n",
    "\n",
    "In those lines, you should replace <font color=green><b>None</b></font> with your code wherever needed to make function work properly.\n",
    "\n",
    "<b>Hints:</b>\n",
    "\n",
    "- A Pythonic way to check if a list is empty is that its name returns `False` if it's empty, and `True` if it's not empty, and this property can be used in conditional statements like `if` or loop conditions in `while`\n",
    "- To check if an element is in a given list, you can use `in`, like this: `if element in list:`\n",
    "- `list.pop()` function is used to pop the last element of a list.\n",
    "- `list.insert(index, element)` is used to insert an element at a specified position of a list, like this: `list.insert(0, element)` which inserts element in position `0`\n",
    "- To concatenate a list to the front or end of a given list we can use `+` operator, e.g.: `list1 + list2` adds `list1` to the front of `list2`, and `list2 + list1`, adds `list1` to the end of `list2`.\n"
   ]
  },
  {
   "cell_type": "markdown",
   "metadata": {},
   "source": [
    "# <font color = red> Required Code"
   ]
  },
  {
   "cell_type": "code",
   "execution_count": 5,
   "metadata": {},
   "outputs": [],
   "source": [
    "import time\n",
    "\n",
    "def uninformedSearch(startState, goalState, successorsf, breadthFirst):\n",
    "    \"\"\"\n",
    "    Search helper function returns a path from the starting state to the goal state\n",
    "    using either Breadth First Search (BFS) or Depth First Search (DFS).\n",
    "\n",
    "    Args:\n",
    "        startState:     The starting state\n",
    "        goalState:      The goal state\n",
    "        successorsf:    The function that returns the children of a state\n",
    "        breadthFirst:   Boolean. True for BFS and False for DFS\n",
    "    Returns:\n",
    "        Returns the solution path from start state to goal state as a list. If none is\n",
    "        found, then returns the string \"Goal Not Found!\"\n",
    "    \"\"\"\n",
    "    # Create the empty expanded dictionary\n",
    "    expanded = {}\n",
    "    # Create the unexpanded list and insert the starting state which has no parents.\n",
    "    unExpanded = [(startState, None)] # No change needed here. Do not replace None here!\n",
    "\n",
    "    ### START CODE HERE ###\n",
    "    # If the start state is the goalState\n",
    "    if None:\n",
    "        # Return the startState in [] to be consistent with the desired output as list\n",
    "        None\n",
    "\n",
    "    # While the unexpanded list is not empty (if a list is not empty it returns True)\n",
    "    while None:\n",
    "        time.sleep(0.01) # Since our test graphs are too small to observe the runtime differences\n",
    "        # Pop the last state in the unexpanded list\n",
    "        state, parent = None\n",
    "        # Assign the parent to the state in the expanded dictionary\n",
    "        expanded[state] = None     \n",
    "\n",
    "        # Get the children of the state; use succesorsf function. It's implemented in the following cells.\n",
    "        children = None\n",
    "        # Remove from children the states that are already in expanded or unexpanded\n",
    "        # This line is provided but notice the condition and how it's implemented\n",
    "        children = [child for child in children if child not in expanded and\n",
    "                    child not in [s for (s, _) in unExpanded]]\n",
    "\n",
    "        # If we have reached the goal state, i.e. if the goalState is in children\n",
    "        if None:\n",
    "            # Create the solution path with the state as the parent of the goalState\n",
    "            solutionPath = None\n",
    "\n",
    "             # While the parent exists, i.e. parent is True\n",
    "            while None:\n",
    "                # Insert the parent into the solutionPath at position index 0. Use .insert() method\n",
    "                None\n",
    "                # Set the next parent\n",
    "                None\n",
    "\n",
    "            # Return the solution path\n",
    "            None\n",
    "\n",
    "        # Reverse sort the children list to maintain the original order. (this line is provided) \n",
    "        children.sort(reverse=True)\n",
    "        # Create the child parent list using the current state. (this line is provided)\n",
    "        childParent = [(child, state) for child in children]\n",
    "\n",
    "        # If this is a breadth first search\n",
    "        if None:\n",
    "            # Insert the childParent list in the front of the unExpanded list using + operator - FIFO\n",
    "            None\n",
    "        # Else if this is a depth first search\n",
    "        else:\n",
    "            # Append the childParent list to the end of the unExpanded list using + operator - LIFO\n",
    "            None\n",
    "         ### END CODE HERE ###\n",
    "\n",
    "    # If the goal was not found, print this\n",
    "    return \"Goal Not Found!\""
   ]
  },
  {
   "cell_type": "markdown",
   "metadata": {},
   "source": [
    "### Example Test"
   ]
  },
  {
   "cell_type": "markdown",
   "metadata": {},
   "source": [
    "Now, let's test your BFS/DFS implementation on an example graph. But how do you represent a directed graph or tree in Python? Let's use a dictionary to specify all the successors of each node. We name this dictionary `successors`."
   ]
  },
  {
   "cell_type": "code",
   "execution_count": 4,
   "metadata": {},
   "outputs": [
    {
     "data": {
      "text/plain": [
       "{'a': ['b', 'c', 'd'],\n",
       " 'b': ['e', 'f', 'g'],\n",
       " 'c': ['h', 'i'],\n",
       " 'd': ['j', 'k'],\n",
       " 'e': ['l', 'm'],\n",
       " 'f': ['n', 'o'],\n",
       " 'g': ['p', 'q'],\n",
       " 'l': ['r', 's'],\n",
       " 'r': ['t', 'u']}"
      ]
     },
     "execution_count": 4,
     "metadata": {},
     "output_type": "execute_result"
    }
   ],
   "source": [
    "successors = {'a':  ['b', 'c', 'd'],\n",
    "              'b':  ['e', 'f', 'g'],\n",
    "              'c':  ['h', 'i'],\n",
    "              'd':  ['j', 'k'],\n",
    "              'e':  ['l', 'm'],\n",
    "              'f':  ['n', 'o'],\n",
    "              'g':  ['p', 'q'],\n",
    "              'l':  ['r', 's'],\n",
    "              'r':  ['t', 'u']\n",
    "             }\n",
    "successors"
   ]
  },
  {
   "cell_type": "markdown",
   "metadata": {},
   "source": [
    "The successors graph is illustrated below.\n",
    "\n",
    "<img src=\"img/A1-graph.png\" align=\"left\"/>"
   ]
  },
  {
   "cell_type": "markdown",
   "metadata": {},
   "source": [
    "We need a function now to return the successors of each node. To implement `successorsf` function, we import [copy library](https://docs.python.org/3.7/library/copy.html). This helps to get the successors of each key in the dictionary by providing a shallow copy of the binding value to each node (key) such that one can change one copy without changing the other. For more information on getting copies and mutable object bindings in Python, read the documentation in the [copy library](https://docs.python.org/3.7/library/copy.html)."
   ]
  },
  {
   "cell_type": "code",
   "execution_count": 5,
   "metadata": {},
   "outputs": [],
   "source": [
    "import copy\n",
    "\n",
    "def successorsf(state):\n",
    "    return copy.copy(successors.get(state, []))"
   ]
  },
  {
   "cell_type": "code",
   "execution_count": 6,
   "metadata": {},
   "outputs": [
    {
     "data": {
      "text/plain": [
       "['l', 'm']"
      ]
     },
     "execution_count": 6,
     "metadata": {},
     "output_type": "execute_result"
    }
   ],
   "source": [
    "successorsf('e')"
   ]
  },
  {
   "cell_type": "markdown",
   "metadata": {},
   "source": [
    "Now, let's try BFS/DFS with some example tests on this graph."
   ]
  },
  {
   "cell_type": "code",
   "execution_count": 6,
   "metadata": {},
   "outputs": [],
   "source": [
    "print('Breadth-first')\n",
    "print('path from a to a is', breadthFirstSearch('a', 'a', successorsf))\n",
    "print('path from a to m is', breadthFirstSearch('a', 'm', successorsf))\n",
    "print('path from a to z is', breadthFirstSearch('a', 'z', successorsf))"
   ]
  },
  {
   "cell_type": "markdown",
   "metadata": {},
   "source": [
    "## The correct output:\n",
    "\n",
    "`Breadth-first\n",
    "path from a to a is ['a']\n",
    "path from a to m is ['a', 'b', 'e', 'm']\n",
    "path from a to z is Goal Not Found!`"
   ]
  },
  {
   "cell_type": "code",
   "execution_count": 7,
   "metadata": {},
   "outputs": [],
   "source": [
    "print('Depth-first')\n",
    "print('path from a to a is', depthFirstSearch('a', 'a', successorsf))\n",
    "print('path from a to m is', depthFirstSearch('a', 'm', successorsf))\n",
    "print('path from a to z is', depthFirstSearch('a', 'z', successorsf))"
   ]
  },
  {
   "cell_type": "markdown",
   "metadata": {},
   "source": [
    "## The correct output:\n",
    "\n",
    "`Depth-first\n",
    "path from a to a is ['a']\n",
    "path from a to m is ['a', 'b', 'e', 'm']\n",
    "path from a to z is Goal Not Found!`"
   ]
  },
  {
   "cell_type": "markdown",
   "metadata": {},
   "source": [
    ">What if no path exists?! Let's try!"
   ]
  },
  {
   "cell_type": "code",
   "execution_count": 8,
   "metadata": {},
   "outputs": [],
   "source": [
    "print('Non-existent paths:')\n",
    "print('path from b to d does not exist.', breadthFirstSearch('b', 'd', successorsf))\n",
    "print('path from d to h does not exist.', depthFirstSearch('d', 'h', successorsf))"
   ]
  },
  {
   "cell_type": "markdown",
   "metadata": {},
   "source": [
    "## The correct output:\n",
    "\n",
    "`Non-existent paths:\n",
    "path from b to d does not exist. Goal Not Found!\n",
    "path from d to h does not exist. Goal Not Found!`"
   ]
  },
  {
   "cell_type": "markdown",
   "metadata": {},
   "source": [
    "If you could get the desired outputs, you're almost done with Part I, but before you move on to Part II, I want you to answer a few questions. I also want you to test your BFS/DFS on a grid which is a fun example! First, read the following section on expanded nodes and answer the following questions."
   ]
  },
  {
   "cell_type": "markdown",
   "metadata": {},
   "source": [
    "## Expanded Nodes vs The Solution Path"
   ]
  },
  {
   "cell_type": "markdown",
   "metadata": {},
   "source": [
    "- You may have noticed that your solution path consists of the nodes which are on the path from the start state to the goal state but not all epanded (visited) nodes are returned in the solution path, because not all of the expanded (visited) nodes are necessarily connected in a directed graph.\n",
    "\n",
    "\n",
    "- Moreover, BFS is a conditionally optimal algorithm, i.e. it returns the optimal solution under the condition that was discussed in the lecture and page 82 of the textbook - if the path cost is a non-decreasing function of the depth of the node. But, in your implementation, how could you display all the nodes that each algorithm BFS or DFS expanded before finding the goal? \n",
    "\n",
    "\n",
    "- To return all expanded nodes, add `list(expanded)` to `return` in line 56, like this:\n",
    "\n",
    ">`56 return solutionPath, list(expanded)`\n",
    "\n",
    "Notice that since `expanded` is a dictionary, we are getting a list of the keys in `dict` by applying `list()` converter."
   ]
  },
  {
   "cell_type": "markdown",
   "metadata": {},
   "source": [
    "Now, let's run some more tests, and check both the solution path and the expanded nodes that BFS & DFS return when node `a` is the start state. We've already imported [`time`](https://docs.python.org/3/library/time.html) to check the running time of the algorithms. The reason we use `time.perf_counter` is because  it does include time elapsed during sleep and is system-wide. Notice how we do this. We do the tests once with node `u` as the goal and then node `j` as the goal.\n",
    "\n",
    "<b>Your submitted notebook MUST include the output for the following cells, otherwise it gets no credit for this part!</b>"
   ]
  },
  {
   "cell_type": "code",
   "execution_count": 1,
   "metadata": {},
   "outputs": [],
   "source": [
    "print('Breadth-first')\n",
    "start_time = time.perf_counter()\n",
    "returned = breadthFirstSearch('a', 'u', successorsf)\n",
    "print(\"Running time --- %s seconds ---\" % (time.perf_counter() - start_time))\n",
    "print('path from a to u is {} and the expanded are {}'.format(returned[0], returned[1]))"
   ]
  },
  {
   "cell_type": "code",
   "execution_count": 2,
   "metadata": {},
   "outputs": [],
   "source": [
    "print('Depth-first')\n",
    "start_time = time.perf_counter()\n",
    "returned = depthFirstSearch('a', 'u', successorsf)\n",
    "print(\"Running time --- %s seconds ---\" % (time.perf_counter() - start_time))\n",
    "print('path from a to u is {} and the expanded nodes are {}'.format(returned[0], returned[1]))"
   ]
  },
  {
   "cell_type": "markdown",
   "metadata": {},
   "source": [
    "> Now let's change the goal to `j`"
   ]
  },
  {
   "cell_type": "code",
   "execution_count": 3,
   "metadata": {},
   "outputs": [],
   "source": [
    "print('Breadth-first')\n",
    "start_time = time.perf_counter()\n",
    "returned = breadthFirstSearch('a', 'j', successorsf)\n",
    "print(\"Running time --- %s seconds ---\" % (time.perf_counter() - start_time))\n",
    "print('path from a to j is {} and the expanded are {}'.format(returned[0], returned[1]))"
   ]
  },
  {
   "cell_type": "code",
   "execution_count": 4,
   "metadata": {},
   "outputs": [],
   "source": [
    "print('Depth-first')\n",
    "start_time = time.perf_counter()\n",
    "returned = depthFirstSearch('a', 'j', successorsf)\n",
    "print(\"Running time --- %s seconds ---\" % (time.perf_counter() - start_time))\n",
    "print('path from a to j is {} and the expanded nodes are {}'.format(returned[0], returned[1]))"
   ]
  },
  {
   "cell_type": "markdown",
   "metadata": {},
   "source": [
    "## Part I Questions"
   ]
  },
  {
   "cell_type": "markdown",
   "metadata": {},
   "source": [
    "- Q1 - Compare the length of the solution path and the list of expanded nodes for BFS and DFS for both examples when the gola is `u` and `j` respectively. You should give a COMPLETE ANSWER with full comparison on the solution path AND the expanded nodes and for both tests.\n",
    "\n",
    "\n",
    "- Q2 - Compare the running time of BFS and DFS for both tests. Give COMPLETE ANSWER!\n",
    "\n",
    "\n",
    "- Q3 - The list of expanded nodes does not contain the goal itself. Why? \n",
    "><b>Hint:</b> Note that some implementations of these algorithms do not check (goeal-test) the children of the node (successors) every time a new node is being expanded. But, we go with the Russel & Norvig textbook way of doing this. See Figure 3.11 for BFS on page 82. Also note that the textbook uses different names for unexpanded and expanded lists, `frontier` and `explored` respectively.\n",
    "\n",
    "<font color=red>Enter your answers in the following markdown cell. Incomplete answers will lose points.</font>"
   ]
  },
  {
   "cell_type": "markdown",
   "metadata": {},
   "source": [
    "- Your answers to Part I questions go here - below the lines:\n",
    "\n",
    "========================================================\n",
    "\n",
    "\n",
    "YOUR Answers Go HERE:\n",
    "\n",
    "- Q1 - \n",
    "\n",
    "\n",
    "- Q2 -\n",
    "\n",
    "\n",
    "- Q3 -"
   ]
  },
  {
   "cell_type": "markdown",
   "metadata": {},
   "source": [
    "<b>Attention: </b>After you answered the questions, and before you proceed, <b>REMOVE</b> the expanded list `list(expanded)` from `return` in line 56, and run the cell again because we no longer need expanded list. If you don't remove it and rerun, the results of the following test will be incorrect!"
   ]
  },
  {
   "cell_type": "markdown",
   "metadata": {},
   "source": [
    "Alright, before we move on to Part II, let's try your BFS/DFS on one more example test - a navigation problem around a grid of size 10 x 10. Rows and columns will be indexed from 0 to 9. This is fun! No implementation required for this test! But your implemented function should return the correct output.\n",
    "\n",
    "The following function takes the input state and returns all possible states."
   ]
  },
  {
   "cell_type": "code",
   "execution_count": 24,
   "metadata": {},
   "outputs": [],
   "source": [
    "def gridSuccessors(state):\n",
    "    row, col = state\n",
    "    # successors will be list of tuples () rather than list of lists [] because state must\n",
    "    # be an immutable type to serve as a key in dictionary of expanded nodes\n",
    "    succs = []\n",
    "    for r in [-1, 0, 1]:   #check each row\n",
    "        for c in [-1, 0, 1]:  # check in each col\n",
    "            newr = row + r\n",
    "            newc = col + c\n",
    "            if 0 <= newr <= 9 and 0 <= newc <= 9:  \n",
    "                succs.append( (newr, newc) )\n",
    "    return succs"
   ]
  },
  {
   "cell_type": "code",
   "execution_count": 25,
   "metadata": {},
   "outputs": [
    {
     "data": {
      "text/plain": [
       "[(2, 3), (2, 4), (2, 5), (3, 3), (3, 4), (3, 5), (4, 3), (4, 4), (4, 5)]"
      ]
     },
     "execution_count": 25,
     "metadata": {},
     "output_type": "execute_result"
    }
   ],
   "source": [
    "gridSuccessors([3,4])"
   ]
  },
  {
   "cell_type": "code",
   "execution_count": 26,
   "metadata": {},
   "outputs": [
    {
     "data": {
      "text/plain": [
       "[(2, 8), (2, 9), (3, 8), (3, 9), (4, 8), (4, 9)]"
      ]
     },
     "execution_count": 26,
     "metadata": {},
     "output_type": "execute_result"
    }
   ],
   "source": [
    "gridSuccessors([3,9])"
   ]
  },
  {
   "cell_type": "code",
   "execution_count": 27,
   "metadata": {},
   "outputs": [
    {
     "data": {
      "text/plain": [
       "[(0, 0), (0, 1), (1, 0), (1, 1)]"
      ]
     },
     "execution_count": 27,
     "metadata": {},
     "output_type": "execute_result"
    }
   ],
   "source": [
    "gridSuccessors([0,0])"
   ]
  },
  {
   "cell_type": "code",
   "execution_count": 10,
   "metadata": {},
   "outputs": [],
   "source": [
    "print('Breadth-first')\n",
    "print('path from (0, 0) to (9, 9) is', breadthFirstSearch((0, 0), (9, 9), gridSuccessors))"
   ]
  },
  {
   "cell_type": "code",
   "execution_count": 9,
   "metadata": {},
   "outputs": [],
   "source": [
    "import matplotlib.pyplot as plt\n",
    "%matplotlib inline\n",
    "print('Breadth-first search path from (0, 0) to (9, 9):')\n",
    "path = breadthFirstSearch((0, 0), (9, 9), gridSuccessors)\n",
    "print(path)\n",
    "rows = [location[0] for location in path]\n",
    "cols = [location[1] for location in path]\n",
    "plt.plot(rows,cols,'o-');"
   ]
  },
  {
   "cell_type": "markdown",
   "metadata": {},
   "source": [
    "## The correct plot for BFS\n",
    "\n",
    "<img src=\"img/grid-bfs.png\" align=\"left\"/>"
   ]
  },
  {
   "cell_type": "markdown",
   "metadata": {},
   "source": [
    "> How about DFS?"
   ]
  },
  {
   "cell_type": "code",
   "execution_count": 13,
   "metadata": {},
   "outputs": [],
   "source": [
    "print('Depth-first')\n",
    "print('path from (0, 0) to (9, 9) is', depthFirstSearch((0, 0), (9, 9), gridSuccessors))"
   ]
  },
  {
   "cell_type": "markdown",
   "metadata": {},
   "source": [
    "Let's plot the paths."
   ]
  },
  {
   "cell_type": "code",
   "execution_count": 14,
   "metadata": {},
   "outputs": [],
   "source": [
    "path = depthFirstSearch((0, 0), (9, 9), gridSuccessors)\n",
    "path"
   ]
  },
  {
   "cell_type": "markdown",
   "metadata": {},
   "source": [
    "Now, we have the path to goal state. To plot this path we must extract the first value in each tuple and put them in a list called `rows` to use as the $y$ coordinate of each point, and build a second list called `cols` of second values."
   ]
  },
  {
   "cell_type": "code",
   "execution_count": 32,
   "metadata": {},
   "outputs": [],
   "source": [
    "import matplotlib.pyplot as plt\n",
    "%matplotlib inline"
   ]
  },
  {
   "cell_type": "code",
   "execution_count": 15,
   "metadata": {},
   "outputs": [],
   "source": [
    "rows = [location[0] for location in path]\n",
    "cols = [location[1] for location in path]\n",
    "plt.plot(rows,cols,'o-');"
   ]
  },
  {
   "cell_type": "markdown",
   "metadata": {},
   "source": [
    "## The correct plot for DFS\n",
    "\n",
    "<img src=\"img/grid-dfs.png\" align=\"left\"/>"
   ]
  },
  {
   "cell_type": "markdown",
   "metadata": {},
   "source": [
    "> How about out-of-bound input?"
   ]
  },
  {
   "cell_type": "code",
   "execution_count": 18,
   "metadata": {},
   "outputs": [],
   "source": [
    "depthFirstSearch((0, 0), (9, 20), gridSuccessors)"
   ]
  },
  {
   "cell_type": "code",
   "execution_count": 19,
   "metadata": {},
   "outputs": [],
   "source": [
    "print('Non-existent paths:')\n",
    "print('path from (5,5) to (10,10) is', breadthFirstSearch((5,5), (10,10), gridSuccessors))\n",
    "print('path from (5,5) to (10,10) is', depthFirstSearch((5,5), (10,10), gridSuccessors))"
   ]
  },
  {
   "cell_type": "code",
   "execution_count": 20,
   "metadata": {},
   "outputs": [],
   "source": [
    "print('Same starting and goal states:')\n",
    "print('path from (5,5) to (5,5) is', breadthFirstSearch((5,5), (5,5), gridSuccessors))\n",
    "print('path from (5,5) to (5,5) is', depthFirstSearch((5,5), (5,5), gridSuccessors))"
   ]
  },
  {
   "cell_type": "markdown",
   "metadata": {},
   "source": [
    "# Part II - Depth-Limited Search and Iterative Deepening DFS"
   ]
  },
  {
   "cell_type": "markdown",
   "metadata": {},
   "source": [
    "In <b>Part II</b> of this Jupyter Notebook, you must implement the following functions:\n",
    "\n",
    "* `iterativeDeepeningSearch(startState, goalState, actionsF, takeActionF, maxDepth)`\n",
    "* `depthLimitedSearch(startState, goalState, actionsF, takeActionF, depthLimit)`\n",
    "\n",
    "`depthLimitedSearch` is called by `iterativeDeepeningSearch` with `depthLimit`s of {$0, 1, \\ldots, $ `maxDepth`}. Both must return either the solution path as a list of states, or the strings `cutoff` or `failure`.  `failure` indicates that all states were searched and the goal was not found. \n",
    "\n",
    "Each search function receives the following arguments:\n",
    "\n",
    "  * the starting state, \n",
    "  * the goal state,\n",
    "  * a function `actionsF` that is given a state and returns a list of valid actions from that state,\n",
    "  * a function `takeActionF` that is given a state and an action and returns the new state that results from applying the action directly to the state,\n",
    "  * either a `depthLimit` for `depthLimitedSearch`, or `maxDepth` for `iterativeDeepeningSearch`."
   ]
  },
  {
   "cell_type": "markdown",
   "metadata": {},
   "source": [
    "Once you implemented the required functions, use your solution to solve the 8-puzzle - Remember how I tried to [solve it online](http://www.tilepuzzles.com/default.asp?p=12) during the lecture? Now, Artificial Intelligence powered by YOUR intelligence will help solve this puzzle! \n",
    "\n",
    "The state of the puzzle are represented as a list of integers. 0 represents the empty position. \n",
    "\n",
    "Helper functions for the 8-puzzle are the following, and they are provided to you in the following cells. What you need to do for these helper functions is reading the code to make sure you understand what they do, and then implement the search algorithms.  These functions also have a more generalized version that can be used to solve more complicated puzzles like [15-puzzle](http://lorecioni.github.io/fifteen-puzzle-game/). Feel free to apply your algorithms and play with them once you finished your assignment!\n",
    "\n",
    "  * `printState_8p(state)` prints the current state of the 8-puzzle.\n",
    "  * `findBlank_8p(state)`: return the row and column index for the location of the blank (the 0 value).\n",
    "  * `actionsF_8p(state)`: returns a list of up to four valid actions that can be applied in `state`. Return them in the order `left`, `right`, `up`, `down`, though only if each one is a valid action.\n",
    "  * `takeActionF_8p(state, action)`: return the state that results from applying `action` in `state`.\n",
    "  * `printPath_8p(startState, goalState, path)`: print a solution path in a readable form."
   ]
  },
  {
   "cell_type": "code",
   "execution_count": 41,
   "metadata": {},
   "outputs": [],
   "source": [
    "# Print the current state of the 8-puzzle\n",
    "def printState_8p(currentState):\n",
    "    # Call the print state helper function\n",
    "    printState_Puzzle(currentState, 3, 3)\n",
    "\n",
    "# Print the current state of a puzzle\n",
    "def printState_Puzzle(currentState, rows, columns):\n",
    "    # Counter for the index\n",
    "    index = 0\n",
    "    \n",
    "    # For each row\n",
    "    for row in range(rows):\n",
    "        \n",
    "        # For each column\n",
    "        for column in range(columns):\n",
    "            \n",
    "            # If this is the blank, print a dash\n",
    "            if currentState[index] == 0:\n",
    "                print(' -', end=' ')\n",
    "            else: # Else\n",
    "                # Print the value at the current index\n",
    "                # A width of 2 was used to accommodate the 15-puzzle double digits\n",
    "                print('%2i' % currentState[index], end=' ')\n",
    "                \n",
    "            # Increment the index counter\n",
    "            index += 1\n",
    "            \n",
    "        # Print a new line\n",
    "        print()"
   ]
  },
  {
   "cell_type": "markdown",
   "metadata": {},
   "source": [
    "> This is an example start state. We will use a simple list data structure to hold all of the values. The rows and columns will be handled by the code. The blank will be represented by a 0 digit."
   ]
  },
  {
   "cell_type": "code",
   "execution_count": 42,
   "metadata": {},
   "outputs": [],
   "source": [
    "startState = [1, 0, 3, 4, 2, 5, 6, 7, 8]"
   ]
  },
  {
   "cell_type": "markdown",
   "metadata": {},
   "source": [
    "> Below is a sample output from the `printState` function. We pass in the state as an argument. It outputs the values of the tiles by row and column. The blank is printed as a dash for easier readability."
   ]
  },
  {
   "cell_type": "code",
   "execution_count": 43,
   "metadata": {},
   "outputs": [
    {
     "name": "stdout",
     "output_type": "stream",
     "text": [
      " 1  -  3 \n",
      " 4  2  5 \n",
      " 6  7  8 \n"
     ]
    }
   ],
   "source": [
    "printState_8p(startState)"
   ]
  },
  {
   "cell_type": "markdown",
   "metadata": {},
   "source": [
    "### Find Blank 8-Puzzle"
   ]
  },
  {
   "cell_type": "markdown",
   "metadata": {},
   "source": [
    "The `findBlank_8p` wrapper function returns the location of the blank in an 8-puzzle. It calls the findBlank_Puzzle helper function using the current state and number of rows and columns in the puzzle. These were also designed to accommodate different sized puzzles. The **findBlank_Puzzle** function works similarly to the print state function above. It iterates through the rows and columns but instead returns the location of the blank when it's found."
   ]
  },
  {
   "cell_type": "code",
   "execution_count": 44,
   "metadata": {},
   "outputs": [],
   "source": [
    "# Find the location of the blank in an 8-puzzle\n",
    "def findBlank_8p(currentState):\n",
    "    # Call the find blank helper function and return the location\n",
    "    return findBlank_Puzzle(currentState, 3, 3)\n",
    "\n",
    "# Find the location of a blank in a puzzle\n",
    "def findBlank_Puzzle(currentState, rows, columns):\n",
    "    # Counter for the index\n",
    "    index = 0\n",
    "    \n",
    "    # For each row\n",
    "    for row in range(rows):\n",
    "        \n",
    "        # For each column\n",
    "        for column in range(columns):\n",
    "            \n",
    "            # If this is the blank\n",
    "            if currentState[index] == 0:\n",
    "                # Return the location\n",
    "                return (row, column)\n",
    "            \n",
    "            # Increment the index counter\n",
    "            index += 1"
   ]
  },
  {
   "cell_type": "markdown",
   "metadata": {},
   "source": [
    "Below is an output from our find blank function. Note that the return value is a tuple with index locations. The index is the row and the second is the column. So (0,1) represents the first row and second column, which corresponds to the blank in our example above."
   ]
  },
  {
   "cell_type": "code",
   "execution_count": 45,
   "metadata": {},
   "outputs": [
    {
     "data": {
      "text/plain": [
       "(0, 1)"
      ]
     },
     "execution_count": 45,
     "metadata": {},
     "output_type": "execute_result"
    }
   ],
   "source": [
    "findBlank_8p(startState)"
   ]
  },
  {
   "cell_type": "markdown",
   "metadata": {},
   "source": [
    "### Actions Function 8-Puzzle"
   ]
  },
  {
   "cell_type": "markdown",
   "metadata": {},
   "source": [
    "The `actionsF_8p` wrapper function returns the valid actions for the current state of the 8-puzzle. It calls the helper function actionsF_Puzzle using the current state and the number of rows and columns. This was also designed to accommodate different sized puzzles. The `actionsF_Puzzle` function iterates through the rows and columns as the other functions above do. Once it finds the blank, it uses the current row and column to verify which actions are valid from that location. Then it returns the actions list."
   ]
  },
  {
   "cell_type": "code",
   "execution_count": 46,
   "metadata": {},
   "outputs": [],
   "source": [
    "# Returns the valid actions for the current state of the 8-puzzle\n",
    "def actionsF_8p(currentState):\n",
    "    # Call the helper function and return the value\n",
    "    return actionsF_Puzzle(currentState, 3, 3)\n",
    "\n",
    "# Returns the valid actions for the current state of a puzzle\n",
    "def actionsF_Puzzle(currentState, rows, columns):\n",
    "    # Counter for the index\n",
    "    index = 0\n",
    "    \n",
    "    # For each row\n",
    "    for row in range(rows):\n",
    "        \n",
    "        # For each column\n",
    "        for column in range(columns):\n",
    "            \n",
    "            # If this is the blank\n",
    "            if currentState[index] == 0:\n",
    "                # Create the actions list\n",
    "                actions = []\n",
    "                \n",
    "                # If the column is not at the far left, append left\n",
    "                if column > 0:\n",
    "                    actions.append(\"left\")\n",
    "                # If the column is not at the far right, append right\n",
    "                if column < columns - 1:\n",
    "                    actions.append(\"right\")\n",
    "                # If the row is not at the top, append up\n",
    "                if row > 0:\n",
    "                    actions.append(\"up\")\n",
    "                # If the row is not at the bottom, append down\n",
    "                if row < rows - 1:\n",
    "                    actions.append(\"down\")\n",
    "                    \n",
    "                # Return the actions list\n",
    "                return actions\n",
    "            \n",
    "            # Increment the index counter\n",
    "            index += 1"
   ]
  },
  {
   "cell_type": "markdown",
   "metadata": {},
   "source": [
    "Below is the output from the actions function. It takes in the start state and returns a list of all of the valid actions. Since the blank in the example above is at the top row, notice that the action 'up' is not returned in the list since that would not be a valid action."
   ]
  },
  {
   "cell_type": "code",
   "execution_count": 47,
   "metadata": {},
   "outputs": [
    {
     "data": {
      "text/plain": [
       "['left', 'right', 'down']"
      ]
     },
     "execution_count": 47,
     "metadata": {},
     "output_type": "execute_result"
    }
   ],
   "source": [
    "actionsF_8p(startState)"
   ]
  },
  {
   "cell_type": "markdown",
   "metadata": {},
   "source": [
    "### Take Action Function 8-Puzzle"
   ]
  },
  {
   "cell_type": "markdown",
   "metadata": {},
   "source": [
    "The `takeActionF_8p` wrapper function below takes the action given on the input state for an 8-puzzle and returns the new state that the puzzle transitions to. It calls the takeActionF_Puzzle helper function. It was also designed to accommodate different sized puzzles. The `takeActionF_Puzzle` function begins by making a copy of the given state. The [`copy`](https://docs.python.org/3.7/library/copy.html) was needed so as not to modify the state that was passed in by reference. The function iterates through the rows and columns and locates the blank. When the blank is found, it performs the given action by \"moving\" the blank to the specified direction. It does this by swapping the values in the state list. Then the resulting new state is returned."
   ]
  },
  {
   "cell_type": "code",
   "execution_count": 48,
   "metadata": {},
   "outputs": [],
   "source": [
    "# Import the copy module\n",
    "import copy\n",
    "\n",
    "# Take the given action on the given state for an 8-puzzle and return the new state\n",
    "def takeActionF_8p(currentState, action):\n",
    "    # Call the take action helper function\n",
    "    return takeActionF_Puzzle(currentState, action, 3, 3)\n",
    "\n",
    "# Take the given action on the given state for a puzzle and return the new state\n",
    "def takeActionF_Puzzle(currentState, action, rows, columns):\n",
    "    # Create a copy of the currentState (needed so we don't modify the original)\n",
    "    newState = copy.copy(currentState)\n",
    "    \n",
    "    # Counter for the index\n",
    "    index = 0\n",
    "    \n",
    "    # For each row\n",
    "    for row in range(rows):\n",
    "        \n",
    "        # For each column\n",
    "        for column in range(columns):\n",
    "            \n",
    "            # If this is the blank\n",
    "            if newState[index] == 0:\n",
    "                \n",
    "                # If action is left, then swap with left value\n",
    "                if action == \"left\":\n",
    "                    newState[index], newState[index-1] = newState[index-1], newState[index]\n",
    "                # If action is right, then swap with right value\n",
    "                elif action == \"right\":\n",
    "                    newState[index], newState[index+1] = newState[index+1], newState[index]\n",
    "                # If action is up, then swap with the value above\n",
    "                elif action == \"up\":\n",
    "                    newState[index], newState[index-columns] = newState[index-columns], newState[index]\n",
    "                # If action is down, then swap with the value below\n",
    "                elif action == \"down\":\n",
    "                    newState[index], newState[index+columns] = newState[index+columns], newState[index]\n",
    "                    \n",
    "                # Return the new state\n",
    "                return newState\n",
    "            \n",
    "            # Increment the index counter\n",
    "            index += 1"
   ]
  },
  {
   "cell_type": "markdown",
   "metadata": {},
   "source": [
    "The output for the `takeActionF_8p` function is shown below. Given our start state above and the action of 'down', the blank moves from the upper center position down to the middle center position. It essentially swaps position with the 2 below it."
   ]
  },
  {
   "cell_type": "code",
   "execution_count": 49,
   "metadata": {},
   "outputs": [
    {
     "data": {
      "text/plain": [
       "[1, 2, 3, 4, 0, 5, 6, 7, 8]"
      ]
     },
     "execution_count": 49,
     "metadata": {},
     "output_type": "execute_result"
    }
   ],
   "source": [
    "takeActionF_8p(startState, 'down')"
   ]
  },
  {
   "cell_type": "markdown",
   "metadata": {},
   "source": [
    ">A formatted version is below for easier readability."
   ]
  },
  {
   "cell_type": "code",
   "execution_count": 50,
   "metadata": {},
   "outputs": [
    {
     "name": "stdout",
     "output_type": "stream",
     "text": [
      " 1  2  3 \n",
      " 4  -  5 \n",
      " 6  7  8 \n"
     ]
    }
   ],
   "source": [
    "printState_8p(takeActionF_8p(startState, 'down'))"
   ]
  },
  {
   "cell_type": "markdown",
   "metadata": {},
   "source": [
    ">The sanity-check test below is just to demonstrate that the `takeActionF_8p` function returns a new state without changing/affecting the original input start state list. The outcome is tested by comparing two calls to the same function using the same start state."
   ]
  },
  {
   "cell_type": "code",
   "execution_count": 51,
   "metadata": {},
   "outputs": [],
   "source": [
    "goalState = takeActionF_8p(startState, 'down')"
   ]
  },
  {
   "cell_type": "code",
   "execution_count": 52,
   "metadata": {},
   "outputs": [],
   "source": [
    "newState = takeActionF_8p(startState, 'down')"
   ]
  },
  {
   "cell_type": "code",
   "execution_count": 53,
   "metadata": {},
   "outputs": [
    {
     "data": {
      "text/plain": [
       "True"
      ]
     },
     "execution_count": 53,
     "metadata": {},
     "output_type": "execute_result"
    }
   ],
   "source": [
    "newState == goalState"
   ]
  },
  {
   "cell_type": "markdown",
   "metadata": {},
   "source": [
    "### Depth Limited Search <font color = red> Required Implementation"
   ]
  },
  {
   "cell_type": "markdown",
   "metadata": {},
   "source": [
    "The **Depth Limited Search** performs a DFS algorithm but with a specified depth limit to resolve some of the issues with DFS. It takes in as arguments the start state, goal state, the actions functions, and the depth limit. If the goal is found within the depth limit, then the path is returned. If we reach a cutoff, then a message is returned. If we fail to find the goal, then a failure message is returned. You will be using a recursive algorithm for this implementation. This allows you to use your depth-limited search in implementing your next algorithm iterative deepening DFS. Let's go!"
   ]
  },
  {
   "cell_type": "markdown",
   "metadata": {},
   "source": [
    "## <font color = red> Required Code"
   ]
  },
  {
   "cell_type": "code",
   "execution_count": 54,
   "metadata": {},
   "outputs": [],
   "source": [
    "# Performs a recursive depth limited search using a specified start state,\n",
    "# goal state, actions function, and depth limit. Either returns the path\n",
    "# or it returns the string 'cutoff' or 'failure'.\n",
    "def depthLimitedSearch(state, goalState, actionsF, takeActionF, depthLimit):\n",
    "    \n",
    "    ### START CODE HERE ###\n",
    "    # If we have reached the goal state, i.e. state equals to goalState, then return an empty list\n",
    "    if None:\n",
    "        return []\n",
    "    \n",
    "    # If we have reached the depth limit, then return \"cutoff\" \n",
    "    if None:\n",
    "        None\n",
    "    \n",
    "    # Create the cut off flag\n",
    "    cutoffOccurred = False\n",
    "    \n",
    "    # Loop through each action for this state\n",
    "    for action in actionsF(state):\n",
    "        \n",
    "        # Take the action and apply it to the state using takeActionF\n",
    "        childState = None\n",
    "        \n",
    "        # Do a recursive call to depthLimitedSearch using proper arguments (Hint: check function definition)\n",
    "        result = None\n",
    "        \n",
    "        # If the recursive call (result) equals \"cutoff\", then set the cutoff flag (cutoffOccurred) to True\n",
    "        if None:\n",
    "            None\n",
    "        # Else if the recursive call (result) doesn't equal \"failure\", \n",
    "        # then insert the childState into the result at position 0 using insert method\n",
    "        elif None:\n",
    "            None\n",
    "            # Return the result\n",
    "            None\n",
    "        \n",
    "    # If a cutoff did occur, then return \"cutoff\"\n",
    "    if None:\n",
    "        None\n",
    "    # Otherwise, we have failed to find the goal. Return \"failure\"\n",
    "    else:\n",
    "        None\n",
    "    ### END CODE HERE ###"
   ]
  },
  {
   "cell_type": "markdown",
   "metadata": {},
   "source": [
    "To test this function, we can use the starting state and goal state below. Notice that an obvious solution would be to move the blank two spaces down. However, we will soon see that the returned solution from this algorithm isn't always the optimal solution.\n",
    "\n",
    "<b>Note:</b> To keep the desired outputs as you follow and run the cells from this point, you may make a copy of the notebook, or copy the cells so as not to lose the correct and desired outputs."
   ]
  },
  {
   "cell_type": "code",
   "execution_count": 55,
   "metadata": {},
   "outputs": [
    {
     "name": "stdout",
     "output_type": "stream",
     "text": [
      " 1  -  3 \n",
      " 4  2  5 \n",
      " 6  7  8 \n",
      "\n",
      " 1  2  3 \n",
      " 4  7  5 \n",
      " 6  -  8 \n"
     ]
    }
   ],
   "source": [
    "startState = [1, 0, 3, 4, 2, 5, 6, 7, 8]\n",
    "goalState = [1, 2, 3, 4, 7, 5, 6, 0, 8]\n",
    "printState_8p(startState)\n",
    "print()\n",
    "printState_8p(goalState)"
   ]
  },
  {
   "cell_type": "markdown",
   "metadata": {},
   "source": [
    ">If we pass in a depth of 1, the function should return a cutoff since the goal is not reachable in 1 step."
   ]
  },
  {
   "cell_type": "code",
   "execution_count": 56,
   "metadata": {},
   "outputs": [
    {
     "data": {
      "text/plain": [
       "'cutoff'"
      ]
     },
     "execution_count": 56,
     "metadata": {},
     "output_type": "execute_result"
    }
   ],
   "source": [
    "path = depthLimitedSearch(startState, goalState, actionsF_8p, takeActionF_8p, 1)\n",
    "path"
   ]
  },
  {
   "cell_type": "markdown",
   "metadata": {},
   "source": [
    ">If we pass in a depth of 2, the function is able to return the correct solution path of moving down two spaces."
   ]
  },
  {
   "cell_type": "code",
   "execution_count": 57,
   "metadata": {},
   "outputs": [
    {
     "name": "stdout",
     "output_type": "stream",
     "text": [
      " 1  -  3 \n",
      " 4  2  5 \n",
      " 6  7  8 \n",
      "\n",
      " 1  2  3 \n",
      " 4  -  5 \n",
      " 6  7  8 \n",
      "\n",
      " 1  2  3 \n",
      " 4  7  5 \n",
      " 6  -  8 \n"
     ]
    }
   ],
   "source": [
    "path = depthLimitedSearch(startState, goalState, actionsF_8p, takeActionF_8p, 2)\n",
    "printState_8p(startState)\n",
    "print()\n",
    "printState_8p(path[0])\n",
    "print()\n",
    "printState_8p(path[1])"
   ]
  },
  {
   "cell_type": "markdown",
   "metadata": {},
   "source": [
    ">However, notice when we pass in a depth greater than the optimal number of steps to the goal. The depth limited search takes a non-optimal path of moving the blank to the left and back to right again in the same spot before going down. The reason for this is because our algorithm generates the actions in the order of left, right, up, and down. Depth first search goes down deep before returning so unless we keep track of the previously visited states, it could take a path that leads to the same state again. In this case it went left and then right before descending down leading to a non-optimal solution."
   ]
  },
  {
   "cell_type": "code",
   "execution_count": 58,
   "metadata": {},
   "outputs": [
    {
     "name": "stdout",
     "output_type": "stream",
     "text": [
      " 1  -  3 \n",
      " 4  2  5 \n",
      " 6  7  8 \n",
      "\n",
      " -  1  3 \n",
      " 4  2  5 \n",
      " 6  7  8 \n",
      "\n",
      " 1  -  3 \n",
      " 4  2  5 \n",
      " 6  7  8 \n",
      "\n",
      " 1  2  3 \n",
      " 4  -  5 \n",
      " 6  7  8 \n",
      "\n",
      " 1  2  3 \n",
      " 4  7  5 \n",
      " 6  -  8 \n"
     ]
    }
   ],
   "source": [
    "path = depthLimitedSearch(startState, goalState, actionsF_8p, takeActionF_8p, 4)\n",
    "printState_8p(startState)\n",
    "print()\n",
    "printState_8p(path[0])\n",
    "print()\n",
    "printState_8p(path[1])\n",
    "print()\n",
    "printState_8p(path[2])\n",
    "print()\n",
    "printState_8p(path[3])"
   ]
  },
  {
   "cell_type": "markdown",
   "metadata": {},
   "source": [
    ">If we continued to increase the depth, the algorithm would continue to cycle between left and right before taking the down path. We can attempt to solve this problem by using the iterative deepening search below."
   ]
  },
  {
   "cell_type": "code",
   "execution_count": 59,
   "metadata": {},
   "outputs": [
    {
     "name": "stdout",
     "output_type": "stream",
     "text": [
      " 1  -  3 \n",
      " 4  2  5 \n",
      " 6  7  8 \n",
      "\n",
      " -  1  3 \n",
      " 4  2  5 \n",
      " 6  7  8 \n",
      "\n",
      " 1  -  3 \n",
      " 4  2  5 \n",
      " 6  7  8 \n",
      "\n",
      " -  1  3 \n",
      " 4  2  5 \n",
      " 6  7  8 \n",
      "\n",
      " 1  -  3 \n",
      " 4  2  5 \n",
      " 6  7  8 \n",
      "\n",
      " 1  2  3 \n",
      " 4  -  5 \n",
      " 6  7  8 \n",
      "\n",
      " 1  2  3 \n",
      " 4  7  5 \n",
      " 6  -  8 \n"
     ]
    }
   ],
   "source": [
    "path = depthLimitedSearch(startState, goalState, actionsF_8p, takeActionF_8p, 6)\n",
    "printState_8p(startState)\n",
    "print()\n",
    "printState_8p(path[0])\n",
    "print()\n",
    "printState_8p(path[1])\n",
    "print()\n",
    "printState_8p(path[2])\n",
    "print()\n",
    "printState_8p(path[3])\n",
    "print()\n",
    "printState_8p(path[4])\n",
    "print()\n",
    "printState_8p(path[5])"
   ]
  },
  {
   "cell_type": "markdown",
   "metadata": {},
   "source": [
    "### Iterative Deepening DFS  <font color = red> Required Implementation"
   ]
  },
  {
   "cell_type": "markdown",
   "metadata": {},
   "source": [
    "**Iterative Deepening Search** - as discussed in the lectures - is similar to limited-depth search but incrementally increases the depth limit until it finds the goal. It combines the benefits of DFS (lower space complexity) with the benefits of BFS (completeness and conditional optimality). It gradually increases the depth limit until the goal is found and returns the solution path. It takes in as arguments the start state, goal state, actions functions, and the max depth. It cycles through the depths and runs a depth limited search using the parameters. If the goal is found, the solution path is returned. We also insert the start state for completeness. If the goal is not found, then the depth limit is increased by one iteratively until either the goal is found or a failure is returned. And a cutoff is returned if we reach the max depth without reaching the goal - you can set the max threshold to avoid long runtimes."
   ]
  },
  {
   "cell_type": "markdown",
   "metadata": {},
   "source": [
    "# <font color = red> Required Code"
   ]
  },
  {
   "cell_type": "code",
   "execution_count": 60,
   "metadata": {},
   "outputs": [],
   "source": [
    "# Performs an interative deepening search using the depth limited search function.\n",
    "def iterativeDeepeningSearch(startState, goalState, actionsF, takeActionF, maxDepth):\n",
    "    \n",
    "    ### START CODE HERE ###\n",
    "    # For each depth from 0 to max depth\n",
    "    for None:\n",
    "        # Perform a depth limited search using the depth and other arguments and store it in result\n",
    "        None\n",
    "        \n",
    "        # If the result is failure, then return \"failure\"\n",
    "        if None:\n",
    "            None\n",
    "        \n",
    "        # If we have not reached the \"cutoff\" using this depth, i.e. result does not equal \"cutoff\",\n",
    "        # then insert the start state into the result at position 0 and return the result (3 lines below)\n",
    "        if None:\n",
    "            None       \n",
    "            None  \n",
    "        \n",
    "    # Return \"cutoff\"\n",
    "    None\n",
    "    ### END CODE HERE ###"
   ]
  },
  {
   "cell_type": "markdown",
   "metadata": {},
   "source": [
    ">This `printPath_8p` helper function displays the start state, goal state, and path in a neat way that is easier to read. We will use this in a the following cells to display the results."
   ]
  },
  {
   "cell_type": "code",
   "execution_count": 61,
   "metadata": {},
   "outputs": [],
   "source": [
    "def printPath_8p(startState, goalState, path):\n",
    "    print(\"Path from:\")\n",
    "    printState_8p(startState)\n",
    "    print(\"to:\")\n",
    "    printState_8p(goalState)\n",
    "    print(\"is\", len(path), \"nodes long\", '\\n')\n",
    "    for p in path:\n",
    "        printState_8p(p)\n",
    "        print()"
   ]
  },
  {
   "cell_type": "markdown",
   "metadata": {},
   "source": [
    ">A test of the function is shown below. With the max depth of 3, the function is able to find and return the correct solution path. Notice how `printPath_8p` helps."
   ]
  },
  {
   "cell_type": "code",
   "execution_count": 62,
   "metadata": {},
   "outputs": [
    {
     "name": "stdout",
     "output_type": "stream",
     "text": [
      "Path from:\n",
      " 1  -  3 \n",
      " 4  2  5 \n",
      " 6  7  8 \n",
      "to:\n",
      " 1  2  3 \n",
      " 4  7  5 \n",
      " 6  -  8 \n",
      "is 3 nodes long \n",
      "\n",
      " 1  -  3 \n",
      " 4  2  5 \n",
      " 6  7  8 \n",
      "\n",
      " 1  2  3 \n",
      " 4  -  5 \n",
      " 6  7  8 \n",
      "\n",
      " 1  2  3 \n",
      " 4  7  5 \n",
      " 6  -  8 \n",
      "\n"
     ]
    }
   ],
   "source": [
    "path = iterativeDeepeningSearch(startState, goalState, actionsF_8p, takeActionF_8p, 3)\n",
    "printPath_8p(startState, goalState, path)"
   ]
  },
  {
   "cell_type": "markdown",
   "metadata": {},
   "source": [
    ">If we increase the max depth to large numbers like 1000, notice that the function continues to return the optimal solution. As mentioned above, this is due to the fact that the algorithm gradually tests each depth and returns when the first solution to the goal is found, and once the goal is found the algorithm stops."
   ]
  },
  {
   "cell_type": "code",
   "execution_count": 63,
   "metadata": {},
   "outputs": [
    {
     "name": "stdout",
     "output_type": "stream",
     "text": [
      "Path from:\n",
      " 1  -  3 \n",
      " 4  2  5 \n",
      " 6  7  8 \n",
      "to:\n",
      " 1  2  3 \n",
      " 4  7  5 \n",
      " 6  -  8 \n",
      "is 3 nodes long \n",
      "\n",
      " 1  -  3 \n",
      " 4  2  5 \n",
      " 6  7  8 \n",
      "\n",
      " 1  2  3 \n",
      " 4  -  5 \n",
      " 6  7  8 \n",
      "\n",
      " 1  2  3 \n",
      " 4  7  5 \n",
      " 6  -  8 \n",
      "\n"
     ]
    }
   ],
   "source": [
    "path = iterativeDeepeningSearch(startState, goalState, actionsF_8p, takeActionF_8p, 1000)\n",
    "printPath_8p(startState, goalState, path)"
   ]
  },
  {
   "cell_type": "markdown",
   "metadata": {},
   "source": [
    "### Solvable and Unsolvable 8-Puzzle"
   ]
  },
  {
   "cell_type": "markdown",
   "metadata": {},
   "source": [
    "There are cases in which the [8 puzzle is not solvable](https://www.cs.princeton.edu/courses/archive/fall12/cos226/assignments/8puzzle.html). For example, in the simple example below, switching the position of 1 and 2 makes it impossible to reach the goal state. It would seem that this could be done with a few simple slides, but our test below with iterative deepening set at max depth of 10 still cannot find a solution. In general, an odd number of inversions ([inverted number positions](https://www.geeksforgeeks.org/check-instance-8-puzzle-solvable/)) from the starting state in comparision to the goal state leads to an unsolvable puzzle."
   ]
  },
  {
   "cell_type": "code",
   "execution_count": 64,
   "metadata": {},
   "outputs": [
    {
     "name": "stdout",
     "output_type": "stream",
     "text": [
      " 2  1  3 \n",
      " 4  5  6 \n",
      " 7  8  - \n",
      "\n",
      " 1  2  3 \n",
      " 4  5  6 \n",
      " 7  8  - \n"
     ]
    },
    {
     "data": {
      "text/plain": [
       "'cutoff'"
      ]
     },
     "execution_count": 64,
     "metadata": {},
     "output_type": "execute_result"
    }
   ],
   "source": [
    "startState = [2, 1, 3, 4, 5, 6, 7, 8, 0]\n",
    "goalState = [1, 2, 3, 4, 5, 6, 7, 8, 0]\n",
    "printState_8p(startState)\n",
    "print()\n",
    "printState_8p(goalState)\n",
    "path = iterativeDeepeningSearch(startState, goalState, actionsF_8p, takeActionF_8p, 10)\n",
    "path"
   ]
  },
  {
   "cell_type": "markdown",
   "metadata": {},
   "source": [
    ">One way to ensure that we have a solvable puzzle from the start is to start with the goal state and generate random valid actions on the state. An example function to generate a random start state was given to us and is shown below:"
   ]
  },
  {
   "cell_type": "code",
   "execution_count": 65,
   "metadata": {},
   "outputs": [],
   "source": [
    "# Import the random module\n",
    "import random\n",
    "\n",
    "# This function generates a start state from the goal state using random valid actions\n",
    "def randomStartState(goalState, actionsF, takeActionF, nSteps):\n",
    "    state = goalState\n",
    "    # Loop through the number of steps and take a random action\n",
    "    \n",
    "    for i in range(nSteps):\n",
    "        state = takeActionF(state, random.choice(actionsF(state)))\n",
    "        \n",
    "    # Return the state\n",
    "    return state"
   ]
  },
  {
   "cell_type": "markdown",
   "metadata": {},
   "source": [
    ">To test this function, we start with a goal state below. Then we generate a reachable start state using a series of 10 random valid actions taken on the goal state. Then iterative deepening is used to find the solution back to the goal state. The results are shown below. Note that every time this is run, a different start state and solution will be generated."
   ]
  },
  {
   "cell_type": "code",
   "execution_count": 66,
   "metadata": {},
   "outputs": [
    {
     "name": "stdout",
     "output_type": "stream",
     "text": [
      "Path from:\n",
      " -  1  2 \n",
      " 4  5  3 \n",
      " 7  8  6 \n",
      "to:\n",
      " 1  2  3 \n",
      " 4  5  6 \n",
      " 7  8  - \n",
      "is 5 nodes long \n",
      "\n",
      " -  1  2 \n",
      " 4  5  3 \n",
      " 7  8  6 \n",
      "\n",
      " 1  -  2 \n",
      " 4  5  3 \n",
      " 7  8  6 \n",
      "\n",
      " 1  2  - \n",
      " 4  5  3 \n",
      " 7  8  6 \n",
      "\n",
      " 1  2  3 \n",
      " 4  5  - \n",
      " 7  8  6 \n",
      "\n",
      " 1  2  3 \n",
      " 4  5  6 \n",
      " 7  8  - \n",
      "\n"
     ]
    }
   ],
   "source": [
    "goalState = [1, 2, 3, 4, 5, 6, 7, 8, 0]\n",
    "startState = randomStartState(goalState, actionsF_8p, takeActionF_8p, 10)\n",
    "path = iterativeDeepeningSearch(startState, goalState, actionsF_8p, takeActionF_8p, 20)\n",
    "printPath_8p(startState, goalState, path)"
   ]
  },
  {
   "cell_type": "markdown",
   "metadata": {},
   "source": [
    "# Part III - Informed Search"
   ]
  },
  {
   "cell_type": "markdown",
   "metadata": {},
   "source": [
    "The following graph is similar to the example you worked on previously as class activity. Answer the following questions. <font color=red> ALL your answers should be typed in including the math inequality. Handwritten answers or screenshots will get NO credit. You may use [Latex](https://oeis.org/wiki/List_of_LaTeX_mathematical_symbols) for math. You can put your math equations between `$` You may also put them between `$$` to align it on center</font>. See how Latex is used in the questions to display the math by putting them between `$$`\n",
    "\n",
    "<img src=\"img/A-star.png\" align=\"left\"/>"
   ]
  },
  {
   "cell_type": "markdown",
   "metadata": {},
   "source": [
    "## Part III Questions"
   ]
  },
  {
   "cell_type": "markdown",
   "metadata": {},
   "source": [
    "- Q1- What solution and goal would be returned if you run Greedy Best-First Search on this graph? What is the total cost of solution?\n",
    "\n",
    "\n",
    "- Q2- What solution and goal would be returned if you run A-star Search on this graph? What is the total cost of solution?\n",
    "\n",
    "\n",
    "- Q3- Is this heuristic admissible? You must prove admissibility using the inequality from slides for every node or to prove otherwise you must show a counter-example.\n",
    "$$\\forall\\, node\\,n, h(n) \\le h^*(n)$$\n",
    "> where $h^*(n)$ is the true actual (minimal) cost from $n$ to goal\n",
    "\n",
    "\n",
    "\n",
    "- Q4- Is this heuristic consistent? You must prove consistency using the inequality from slides for every node or to prove otherwise you must show a counter-example.\n",
    " A heuristic $h$ is consistent if for every node $n$ of a parent node $p$,\n",
    "\n",
    "$$h(p) \\le h(n) + \\mathrm{stepcost}(p,n)$$"
   ]
  },
  {
   "cell_type": "markdown",
   "metadata": {},
   "source": [
    "YOUR Answers Go HERE:\n",
    "\n",
    "- Q1- \n",
    "\n",
    "\n",
    "- Q2- \n",
    "\n",
    "\n",
    "- Q3-\n",
    "\n",
    "\n",
    "- Q4-"
   ]
  },
  {
   "cell_type": "markdown",
   "metadata": {},
   "source": [
    "<font color=blue>Congratulations! </font>You finished the first assignemtn of AI class! You learned and praticed a lot of things that we discussed in class. This is one of the cool features of Jupyter Notebooks, you can have all the contents, text, codes and plots in an interactive environment. We are going to have similar assignments for the following sections and chapters. Stay tuned! "
   ]
  },
  {
   "cell_type": "markdown",
   "metadata": {},
   "source": [
    "## Grading\n",
    "\n",
    "Assignment 1 has a maximum of 100 points. Make sure that you get the desired outputs for all cells that you implemented. Also, your notebook should be written with no grammatical and spelling errors and should be nicely-formatted and easy-to-read.\n",
    "\n",
    "The breakdown of the 100 points is as follows:\n",
    "\n",
    "Part I has 50 points:\n",
    "- 20 points: correct outputs for BFS\n",
    "- 20 points: correct outputs for DFS\n",
    "- 10 points: correct answer of the Part I question\n",
    "\n",
    "Part II has 30 points:\n",
    "- 15 points: correct outputs for Depth Limited Search\n",
    "- 15 points: correct outputs for Iterative Deepening DFS\n",
    "\n",
    "Part III has 20 points:\n",
    "- 5 points: Greedy Best First Search\n",
    "- 5 points: A*\n",
    "- 5 points: Admissibility\n",
    "- 5 points: Consistency\n",
    "\n",
    "Follow the instructions of each part and section carefully.\n",
    "\n",
    "<b>Up to 10 points will be deducted if your submitted notebook is not easy to read and follow or if it has grammatical and spelling errors.</b>"
   ]
  },
  {
   "cell_type": "markdown",
   "metadata": {},
   "source": [
    "## How to Submit and Due Date"
   ]
  },
  {
   "cell_type": "markdown",
   "metadata": {},
   "source": [
    "Name your notebook ```Lastname-A1.ipynb```.  So, for me it would be ```Vafaei-A1.ipynb```.  Submit the file using the ```Assignment-1``` link on Blackboard.\n",
    "\n",
    "Grading will be based on \n",
    "\n",
    "  * correct behavior of the required functions, correct answer to the questions, and\n",
    "  * readability of the notebook.\n",
    "  \n",
    "<font color=red><b>Due Date: Friday Feb 28th, 11:59PM.</b></font>"
   ]
  },
  {
   "cell_type": "markdown",
   "metadata": {},
   "source": [
    "## References\n",
    "\n",
    "- AI A Modern Approach - 3rd Edition - Russel & Norvig Textbook\n",
    "- Professor Chuck Anderson's \"Introduction to AI\" notebooks, Colorado State University - special thanks to CS440 students (Kobayashi et al)\n"
   ]
  }
 ],
 "metadata": {
  "anaconda-cloud": {},
  "kernelspec": {
   "display_name": "Python 3",
   "language": "python",
   "name": "python3"
  },
  "language_info": {
   "codemirror_mode": {
    "name": "ipython",
    "version": 3
   },
   "file_extension": ".py",
   "mimetype": "text/x-python",
   "name": "python",
   "nbconvert_exporter": "python",
   "pygments_lexer": "ipython3",
   "version": "3.7.3"
  }
 },
 "nbformat": 4,
 "nbformat_minor": 1
}
