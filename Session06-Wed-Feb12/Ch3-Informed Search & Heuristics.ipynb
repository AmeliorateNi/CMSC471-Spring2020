{
 "cells": [
  {
   "cell_type": "markdown",
   "metadata": {
    "slideshow": {
     "slide_type": "slide"
    }
   },
   "source": [
    "#### <h1><center>CMSC 471: Introduction to Artificial Intelligence</center></h1>\n",
    "\n",
    "<center><img src=\"img/title.jpeg\" align=\"center\"/></center>\n",
    "\n",
    "\n",
    "<h3 style=\"color:blue;\"><center>Instructor: Fereydoon Vafaei</center></h3>\n",
    "\n",
    "\n",
    "<h5 style=\"color:purple;\"><center>Chapter 3 \"Informed Search - Heuristic Functions\"<br></center></h5>\n",
    "\n",
    "<center><img src=\"img/UMBC_logo.png\" align=\"center\"/></center>"
   ]
  },
  {
   "cell_type": "markdown",
   "metadata": {
    "slideshow": {
     "slide_type": "slide"
    }
   },
   "source": [
    "<h1><center>Agenda</center></h1>\n",
    "\n",
    "- <b> Chapter 3: Informed Search & Heuristic Functions</b>"
   ]
  },
  {
   "cell_type": "markdown",
   "metadata": {
    "slideshow": {
     "slide_type": "subslide"
    }
   },
   "source": [
    "<h1><center>Reminders</center></h1>\n",
    "\n",
    "- <b>Reading assignments: This week Chapter 3 and Chapter 4, next week Chapter 5</b>\n",
    "- <b>Quiz-1 due Feb 10 11:59PM</b>"
   ]
  },
  {
   "cell_type": "markdown",
   "metadata": {
    "slideshow": {
     "slide_type": "slide"
    }
   },
   "source": [
    "<h1><center>Uninformed Search Summary</center></h1>\n",
    "\n",
    ">This table is from page 91 of our texbook.  Here $b$ is the branching factor, $d$ is the depth of the shallowest solution, $m$ is the maximum depth of the search tree, and $l$ is the depth limit. \n",
    "\n",
    "|  Criterion  |  Breadth-First  |  Depth-First  |  Depth-Limited  |  Iterative-Deepening  |  Bidirectional  \n",
    "| :-: | :-: | :-: | :-: | :-: | :-:\n",
    "|  Complete?  |  Yes  |  No  |  No  |  Yes  |  Yes  |\n",
    "|  Optimal?  |  Yes  |  No  |  No  |  Yes  |  Yes  |\n",
    "|  Time  |  $O(b^d)$  |  $O(b^m)$  |  $O(b^l)$  |  $O(b^d)$  |  $O(b^{d/2})$  |\n",
    "|  Space  |  $O(b^d)$  |  $O(bm)$  |  $O(bl)$  |  $O(bd)$  |  $O(b^{d/2})$  |\n"
   ]
  },
  {
   "cell_type": "markdown",
   "metadata": {
    "slideshow": {
     "slide_type": "slide"
    }
   },
   "source": [
    "<h1><center>Uninformed Search Summary</center></h1>\n",
    "\n",
    "Our textbook authors say:\n",
    "\n",
    "> \"In general, iterative deepening is the preferred uninformed search method when the search space is large and the depth of the solution is not known.\"\n",
    "\n",
    "[Watch this short video](https://www.youtube.com/watch?v=EnX8cQPiB1M) by [Richard Korf - UCLA](https://scholar.google.com/citations?user=LsuWoRoAAAAJ&hl=en) one of the developers of iterative deepening."
   ]
  },
  {
   "cell_type": "markdown",
   "metadata": {
    "slideshow": {
     "slide_type": "slide"
    }
   },
   "source": [
    "<h1><center>Informed Search</center></h1>\n",
    "\n",
    "- Uses problem-specific knowledge beyond the definition of the problem itself.\n",
    "- <b>Best-first search</b> A node is selected for expansion based on an evaluation function $f(n)$\n",
    "- <b>Heuristic function $h(n)$</b> estimated cost of the cheapest path from the state at node n to a goal state - this is non-negative and problem specific."
   ]
  },
  {
   "cell_type": "markdown",
   "metadata": {
    "slideshow": {
     "slide_type": "slide"
    }
   },
   "source": [
    "<h1><center>Informed Search</center></h1>\n",
    "\n",
    "Also known as <font color=\"blue\">heuristic</font> search, because the search is informed by an\n",
    "estimate of the total path cost through each node, and the next\n",
    "unexpanded node with the lowest estimated cost is expanded next. \n",
    "\n",
    "    At some intermediate node, the \n",
    "      estimated cost of the solution path =\n",
    "          the sum of the step costs so far from the start node to this node\n",
    "             +\n",
    "          an estimate of the sum of the remaining step costs to a goal\n",
    "\n",
    "Let's label these as\n",
    "\n",
    "   * $f(n) =$ estimated cost of the solution path through node $n$\n",
    "   * $g(n) =$ the sum of the step costs so far from the start node to this node\n",
    "   * $h(n) =$ an estimate of the sum of the remaining step costs to a goal\n",
    "\n",
    "<font color=\"blue\">*heuristic function*</font>: $h(n) =$ estimated cost of the cheapest path from state at node $n$ to a goal state."
   ]
  },
  {
   "cell_type": "markdown",
   "metadata": {
    "slideshow": {
     "slide_type": "slide"
    }
   },
   "source": [
    "<h1><center>Uniform Cost Search</center></h1>\n",
    "\n",
    "-  It's <font color=\"blue\"><b>Uninformed Search</b></font>. No Heuristic!\n",
    "- Expand the node $n$ with the lowest path cost.\n",
    "- $f(n) = g(n)$"
   ]
  },
  {
   "cell_type": "markdown",
   "metadata": {
    "slideshow": {
     "slide_type": "slide"
    }
   },
   "source": [
    "<h1><center>Greedy Best-first Search</center></h1>\n",
    "\n",
    "- Expand the node that is closest to the goal.\n",
    "- $f(n) = h(n)$"
   ]
  },
  {
   "cell_type": "markdown",
   "metadata": {
    "slideshow": {
     "slide_type": "slide"
    }
   },
   "source": [
    "<img src=\"img/greedy.jpg\" align=\"center\"/>\n",
    "\n",
    "image from: https://slideplayer.com/slide/4318958/14/images/35/GREEDY+BEST+FIRST+SEARCH.jpg"
   ]
  },
  {
   "cell_type": "markdown",
   "metadata": {
    "slideshow": {
     "slide_type": "slide"
    }
   },
   "source": [
    "<h1><center>A* Search</center></h1>\n",
    "\n",
    "- Expand the node that has the minimum value of $f(n)$\n",
    "- $f(n) = g(n) + h(n)$\n",
    "- $g(n)$ the cost from the start state to the current node\n",
    "- $h(n)$ the estimated cost from the current node to the goal"
   ]
  },
  {
   "cell_type": "markdown",
   "metadata": {
    "slideshow": {
     "slide_type": "slide"
    }
   },
   "source": [
    "<h1><center>A* Search</center></h1>\n",
    "\n",
    "<img src=\"img/astar1.png\" align=\"center\"/>"
   ]
  },
  {
   "cell_type": "markdown",
   "metadata": {
    "slideshow": {
     "slide_type": "slide"
    }
   },
   "source": [
    "<h1><center>A* Search</center></h1>\n",
    "\n",
    "<img src=\"img/astar2.png\" align=\"center\"/>"
   ]
  },
  {
   "cell_type": "markdown",
   "metadata": {
    "slideshow": {
     "slide_type": "slide"
    }
   },
   "source": [
    "<h1><center> Admissible Heuristic Function</center></h1>\n",
    "\n",
    "- An <font color=\"blue\"><b>admissible heuristic</b></font> is one that **never overestimates** the cost of the minimum cost path from a node to the goal node.  So, a heuristic is specific to a particular state space, and also to a particular goal state in that state space.  It must be <font color=\"blue\"><b>admissible</b></font> for all states in that search space.\n",
    "\n",
    "$$\\forall\\, node\\,n, h(n) \\le h^*(n)$$\n",
    "> where $h^*(n)$ is the true actual (minimal) cost from $n$ to goal\n",
    "\n",
    "<br>\n",
    "\n",
    "- To help remember whether an admissible heuristic \"never overestimates\" or \"never underestimates\", just remember that an <font color=\"blue\"><b>admissible heuristic is always optimistic</b></font>. If the heuristic $h$ value is too high, i.e. the heuristic overestimates the cost, it may  prevent  $A^*$  from expanding a node that is on the optimal path."
   ]
  },
  {
   "cell_type": "markdown",
   "metadata": {
    "slideshow": {
     "slide_type": "slide"
    }
   },
   "source": [
    "<h1><center> Consistent Heuristic Function</center></h1>\n",
    "\n",
    "- A stronger requirement on a heuristic is that it is <font color=\"blue\"><b>consistent</b></font>, sometimes called **monotonic**.  A heuristic $h$ is consistent if its value is nondecreasing along a path. Mathematically, a heuristic $h$ is consistent if for every node $n$ of a parent node $p$,\n",
    "\n",
    "$$h(p) \\le h(n) + \\mathrm{stepcost}(p,n)$$\n",
    "\n",
    "- Every consistent heuristic must be admissible. Proving admissibility is not sufficient for proving consistency. However, showing that a heuristic is not admissible is enough to prove that it is not consistent either."
   ]
  },
  {
   "cell_type": "markdown",
   "metadata": {
    "slideshow": {
     "slide_type": "slide"
    }
   },
   "source": [
    "<h1><center> <font color=\"blue\">Active Learning</font>: A* Search Exercise</center></h1>\n",
    "\n",
    ">Solve [this A* search problem](astarexercise.pdf). Then you should exchange your paper with one of your peers to be graded by each other.\n"
   ]
  },
  {
   "cell_type": "markdown",
   "metadata": {
    "slideshow": {
     "slide_type": "slide"
    }
   },
   "source": [
    "<h1><center> Optimality of Greedy and A*</center></h1>\n",
    "\n",
    "- Greedy Best First Search is neither complete nor optimal.\n",
    "\n",
    "\n",
    "- $A^*$ is complete (mathematical proof exists but not required for the exam).\n",
    "\n",
    "\n",
    "- The tree-search version of A* is optimal if $h(n)$ is admissible, while the graph-version is optimal if $h(n)$ is consistent (mathematical proof in the textbook - but not required).\n",
    "\n",
    "\n",
    "-  $A^*$ has a high space complexity. It runs out of memory pretty quickly."
   ]
  },
  {
   "cell_type": "markdown",
   "metadata": {
    "slideshow": {
     "slide_type": "slide"
    }
   },
   "source": [
    "<h1><center> Memory-Bounded Heuristic Search I</center></h1>\n",
    "\n",
    "- No other algorithm that extends search paths from the start node and uses the same heuristic information will expand fewer nodes that $A^*$.\n",
    "\n",
    "\n",
    "- However, maintaining the list of unexpanded frontier nodes can quickly consume all storage.  This is why sometimes the  modified versions of $A^*$ are used.\n",
    "\n",
    "\n",
    "- For instance, Recursive-best-first-search **RBFS** strategy throws away and regenerates nodes and reduces the maximum number of nodes stored at any point of the algorithm.  Its space complexity is linear in the depth of the deepest optimal solution. Its time complexity is hard to characterize as it depends on the accuracy of the heuristic function.\n",
    "\n",
    "\n",
    "- Recursive Best First Search (RBFS) - uses only linear space with a DFS strategy with a f-limit. Once the current node exceeds the limit, the recursion unwinds back to the alternative path and replaces the f-value of each node on the path with the best f-value of its children."
   ]
  },
  {
   "cell_type": "markdown",
   "metadata": {
    "slideshow": {
     "slide_type": "slide"
    }
   },
   "source": [
    "<h1><center> Memory-Bounded Heuristic Search II</center></h1>\n",
    "\n",
    "- RBFS throws away too many nodes to be as efficient in time as it can be.  Alternatives include the simplified memory-bounded A\\*, SM$A^*$ algorithm.  SM$A^*$ proceeds like a graph-based search maintaining the unexplored frontier list.  When it runs out of memory, it deletes the node with the worst $f$ value and backs that value up to the deleted node's parent.\n",
    "\n",
    "\n",
    "- Simplified MA* (SMA*) - like $A^*$ expands the best leaf until memory is full, then drops the worst leaf node, also backs up the value of the forgotten node to its parent.\n",
    "\n",
    "\n",
    "- Iterative Deepening $A^*$ (ID$A^*$) - uses f-cost, i.e. $(g+h)$ rather than the depth for limit. At each iteration, the cutoff value is the smallest f-cost of any node that exceeded the cutoff on the previous iteration."
   ]
  },
  {
   "cell_type": "markdown",
   "metadata": {
    "slideshow": {
     "slide_type": "slide"
    }
   },
   "source": [
    "<h1><center>Heuristics</center></h1>\n",
    "\n",
    "- \"Using a good heuristic is important in determining the performance of $A^*$. The value of $h(n)$ would ideally equal the exact cost of reaching the destination. This is, however, not possible because we do not even know the path.\"\n",
    "\n",
    "\n",
    "- Also, for some problems sometimes we may want to use combination of heuristics.\n",
    "\n",
    "\n",
    "- As an example, if $h_1(n)$ and $h_2(n)$ are both admissible, is $max\\{h_1(n), h_2(n)\\}$ admissible? How about $min\\{h_1(n), h_2(n)\\}$? How about $h_1(n) + h_2(n)$ ?\n",
    "\n",
    "https://brilliant.org/wiki/a-star-search/\n",
    "\n",
    "http://theory.stanford.edu/~amitp/GameProgramming/Heuristics.html"
   ]
  },
  {
   "cell_type": "markdown",
   "metadata": {
    "slideshow": {
     "slide_type": "slide"
    }
   },
   "source": [
    "<h1><center>Summary of Chapter 3</center></h1>\n",
    "\n",
    "- Search environment characteristics: Observable, Known, Discrete, Deterministic\n",
    "\n",
    "- <font color=\"blue\">Uninformed Search</font>: BFS, Uniform-Cost Search, DFS, Depth-limited Search, Iterative Deepening Search, Bidirectional Search \n",
    "\n",
    "- <font color=\"blue\">Informed Search</font>: Greedy Best First Search, $A^*$ Search, RBFS, SM$A^*$, ID$A^*$"
   ]
  }
 ],
 "metadata": {
  "celltoolbar": "Slideshow",
  "kernelspec": {
   "display_name": "Python 3",
   "language": "python",
   "name": "python3"
  },
  "language_info": {
   "codemirror_mode": {
    "name": "ipython",
    "version": 3
   },
   "file_extension": ".py",
   "mimetype": "text/x-python",
   "name": "python",
   "nbconvert_exporter": "python",
   "pygments_lexer": "ipython3",
   "version": "3.7.3"
  }
 },
 "nbformat": 4,
 "nbformat_minor": 2
}
