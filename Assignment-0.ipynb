{
 "cells": [
  {
   "cell_type": "markdown",
   "metadata": {},
   "source": [
    "# CMSC471 - Assignment 0: Technology Setup, Chapter 1, and Colab"
   ]
  },
  {
   "cell_type": "markdown",
   "metadata": {},
   "source": [
    "*Type your name and ID here* "
   ]
  },
  {
   "cell_type": "markdown",
   "metadata": {},
   "source": [
    "## Overview and Learning Objectives"
   ]
  },
  {
   "cell_type": "markdown",
   "metadata": {},
   "source": [
    "This assignment prepares you for the upcoming assignments to make sure that you have setup the frameworks. So, it's a warm-up for the Jupyter Notebook environment.\n",
    "\n",
    "It also provides you with some further resources as a follow-up on our class discussions in Session 2."
   ]
  },
  {
   "cell_type": "markdown",
   "metadata": {},
   "source": [
    "# Part I - Python Setup"
   ]
  },
  {
   "cell_type": "markdown",
   "metadata": {},
   "source": [
    "In <b>Part I</b> of this Jupyter Notebook, you must run the following cell and make sure that your Python version is correct. Depending on what OS you're using, your output might be slightly different but the Python version must be 3.x."
   ]
  },
  {
   "cell_type": "code",
   "execution_count": 2,
   "metadata": {},
   "outputs": [
    {
     "name": "stdout",
     "output_type": "stream",
     "text": [
      "Python version\n",
      "3.7.3 (default, Mar 27 2019, 22:11:17) \n",
      "[GCC 7.3.0]\n",
      "Version info.\n",
      "sys.version_info(major=3, minor=7, micro=3, releaselevel='final', serial=0)\n"
     ]
    }
   ],
   "source": [
    "import sys\n",
    "print(\"Python version\")\n",
    "print (sys.version)\n",
    "print(\"Version info.\")\n",
    "print (sys.version_info)"
   ]
  },
  {
   "cell_type": "markdown",
   "metadata": {},
   "source": [
    "Next, run the following cell."
   ]
  },
  {
   "cell_type": "code",
   "execution_count": 1,
   "metadata": {},
   "outputs": [],
   "source": [
    "import matplotlib.pyplot as plt\n",
    "%matplotlib inline\n",
    "\n",
    "# Create a list of grades\n",
    "grades = [70.2, 66, 80.3, 95.2, 80, 91]\n",
    "\n",
    "# Print the list\n",
    "print(grades)\n",
    "\n",
    "# Plot grades\n",
    "plt.plot(grades,'-o')\n",
    "plt.xlabel('Assignment')\n",
    "plt.ylabel('Grade')"
   ]
  },
  {
   "cell_type": "markdown",
   "metadata": {},
   "source": [
    "Hopefully your grades would be much better than this plot! :-)"
   ]
  },
  {
   "cell_type": "markdown",
   "metadata": {},
   "source": [
    "## Part II - Chapter 1 Supplementary Resources"
   ]
  },
  {
   "cell_type": "markdown",
   "metadata": {},
   "source": [
    "In <b>Part II</b> of this Jupyter Notebook, you should answer some questions based on the suggested resources.\n",
    "\n",
    "First, read the following article:\n",
    "\n",
    "https://futureoflife.org/background/benefits-risks-of-artificial-intelligence/?cn-reloaded=1\n",
    "\n",
    "\n",
    "Next, watch the following short video:\n",
    "\n",
    "https://www.youtube.com/watch?v=Ls1_tqlpMww\n",
    "\n",
    "Now answer the following questions in the following cell:\n",
    "\n",
    "Q1- Pick one of the Myths vs Facts mentioned in the article, quote it and then expand your own opinion on it.\n",
    "\n",
    "Q2- Based on the \"World Economic Forum Video: AI on Track to Achieving Superintelligence?\", what countries are considered as the \"Superpowers of AI\"?\n",
    "\n",
    "Q3- According to Professor Rita Singh from CMU, why processing human voice is important? What neuro-disease she believes Hitler had based on analyzing his voice?"
   ]
  },
  {
   "cell_type": "markdown",
   "metadata": {},
   "source": [
    "YOUR ANSWERS GO HERE:\n",
    "\n",
    "Q1-\n",
    "\n",
    "Q2-\n",
    "\n",
    "Q3-"
   ]
  },
  {
   "cell_type": "markdown",
   "metadata": {},
   "source": [
    "## Part III - Trying Colab"
   ]
  },
  {
   "cell_type": "markdown",
   "metadata": {},
   "source": [
    "In Part III, you should run your notebook in [Colab](https://colab.research.google.com) and take a screenshot after you run it in Colab. First upload your notebook to your Google Drive Account. Alternatively, you can click on \"File\" menu in Colab page, and then click \"Upload notebook\". \n",
    "\n",
    "Once you run the notebook in Colab, take a screenshot, save the image in the same working directory of your notebook here.\n",
    "\n",
    "Name the screenshot file: `colab.png`\n",
    "\n",
    "There is a link in the following cell that, once you save the image in the notebook working directory, will be displayed.\n",
    "\n",
    "Try to change the zoom of your web browser so that the screenshot shows all of your notebook."
   ]
  },
  {
   "cell_type": "markdown",
   "metadata": {},
   "source": [
    "Your Colab screenshot will be displayed HERE:\n",
    "\n",
    "<center><img src=\"colab.png\" align=\"center\"/></center>"
   ]
  },
  {
   "cell_type": "markdown",
   "metadata": {},
   "source": [
    "##  Grading"
   ]
  },
  {
   "cell_type": "markdown",
   "metadata": {},
   "source": [
    "Assignment 0 has 10 points. The breakdown is as follows:\n",
    "\n",
    "Part I - Python Setup: 5 points\n",
    "\n",
    "Part II - Chapter 1 Supplementary questions: 3 points (1 point each question)\n",
    "\n",
    "Part III: Colab: 2 points"
   ]
  },
  {
   "cell_type": "markdown",
   "metadata": {},
   "source": [
    "## How to Submit and Due Date"
   ]
  },
  {
   "cell_type": "markdown",
   "metadata": {},
   "source": [
    "First, name your notebook ```Lastname-A0.ipynb```.  So, for me it would be ```Vafaei-A0.ipynb```.  \n",
    "\n",
    "Then, make a zip file of your Jupyter Notebook .ipynb file and the screenshot of Colab `colab.png`\n",
    "\n",
    "Also, name the zip file ```Lastname-A0.zip```\n",
    "\n",
    "Submit the zip file using the ```Assignment-0``` link on Blackboard.\n",
    "\n",
    "Grading will be based on completeness and correctness of all the required tasks, prompts and questions. Points will be deducted if you have mistakes in naming the files and/or in making the zip file.\n",
    "\n",
    "  \n",
    "<font color=red><b>Due Date: Wednesday Feb 5, 11:59PM</b></font>"
   ]
  }
 ],
 "metadata": {
  "anaconda-cloud": {},
  "kernelspec": {
   "display_name": "Python 3",
   "language": "python",
   "name": "python3"
  },
  "language_info": {
   "codemirror_mode": {
    "name": "ipython",
    "version": 3
   },
   "file_extension": ".py",
   "mimetype": "text/x-python",
   "name": "python",
   "nbconvert_exporter": "python",
   "pygments_lexer": "ipython3",
   "version": "3.7.3"
  }
 },
 "nbformat": 4,
 "nbformat_minor": 1
}
